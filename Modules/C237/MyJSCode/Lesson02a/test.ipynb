{
 "cells": [
  {
   "cell_type": "code",
   "execution_count": 2,
   "metadata": {},
   "outputs": [
    {
     "name": "stdout",
     "output_type": "stream",
     "text": [
      "Given Name: John\n",
      "Surname: Doe\n",
      "Age: \u001b[33m25\u001b[39m\n",
      "Graduated: \u001b[33mtrue\u001b[39m\n"
     ]
    }
   ],
   "source": [
    "%%script node\n",
    "\n",
    "// Create a JavaScript object\n",
    "const person = {\n",
    "    givenName: \"John\",\n",
    "    surname: \"Doe\",\n",
    "    age: 25,\n",
    "    graduated: true\n",
    "};\n",
    "\n",
    "// Test harness to instantiate the object and print its properties\n",
    "console.log(\"Given Name:\", person.givenName);\n",
    "console.log(\"Surname:\", person.surname);\n",
    "console.log(\"Age:\", person.age);\n",
    "console.log(\"Graduated:\", person.graduated);"
   ]
  }
 ],
 "metadata": {
  "kernelspec": {
   "display_name": "Python 3",
   "language": "python",
   "name": "python3"
  },
  "language_info": {
   "codemirror_mode": {
    "name": "ipython",
    "version": 3
   },
   "file_extension": ".py",
   "mimetype": "text/x-python",
   "name": "python",
   "nbconvert_exporter": "python",
   "pygments_lexer": "ipython3",
   "version": "3.12.3"
  }
 },
 "nbformat": 4,
 "nbformat_minor": 2
}
