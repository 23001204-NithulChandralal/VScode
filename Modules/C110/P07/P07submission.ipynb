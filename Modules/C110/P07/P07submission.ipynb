{
 "cells": [
  {
   "cell_type": "code",
   "execution_count": null,
   "metadata": {},
   "outputs": [],
   "source": [
    "\"\"\"\n",
    " Write a program that used nested loops to displays a chess board but instead of the colors black and white, display the character B for black and W for white instead.\n",
    "\"\"\"\n",
    "\n",
    "a = 8 \n",
    "\n",
    "for b in range(a):\n",
    "    print(abs(b - 8) , end=' ')\n",
    "    for c in range(a):\n",
    "        if (b + c) % 2 == 0:\n",
    "            d = 'W'\n",
    "        else:\n",
    "            d = 'B'\n",
    "        print (\"%2s\"% d, end=' ')\n",
    "    print()\n",
    "\n",
    "print(\"   a  b  c  d  e  f  g  h \")"
   ]
  },
  {
   "cell_type": "code",
   "execution_count": null,
   "metadata": {},
   "outputs": [],
   "source": [
    "\"\"\"\n",
    "Write a program that will print multiplication tables for multiplicands* from x to y\n",
    "\"\"\"\n",
    "\n",
    "for i in range(2,4):\n",
    "    for j in range(1,6):\n",
    "        print(i,\"X\",j,'=',i*j)\n",
    "\n"
   ]
  },
  {
   "cell_type": "code",
   "execution_count": null,
   "metadata": {},
   "outputs": [],
   "source": [
    "\"\"\"\n",
    " (for loop)Write the same multiplication program that will print multiplication tables\n",
    "\"\"\"\n",
    "\n",
    "for i in range(2,9):\n",
    "    for j in range(1,4):\n",
    "        if i % 2 != 0 :\n",
    "            break\n",
    "        else:\n",
    "            print(i,\"X\",j,\"=\", i*j)\n",
    "\n"
   ]
  },
  {
   "cell_type": "code",
   "execution_count": null,
   "metadata": {},
   "outputs": [],
   "source": [
    "\"\"\"\n",
    "Write a program that displays x approximations of pi\n",
    "(rounded to 7 decimals points)\n",
    "\n",
    "NOT SURE HOW TO DO \n",
    "\"\"\"\n",
    "def calculate_pi_approximations(x):\n",
    "    pi_approx = 3.0  # Starting with the first term of the infinite series\n",
    "    denominator = 2.0\n",
    "    sign = 1.0\n",
    "\n",
    "    for i in range(1, +1):\n",
    "        term = (4 / (denominator * (denominator + 1) * (denominator + 2))) * sign\n",
    "        pi_approx += term\n",
    "        denominator += 4\n",
    "        sign *= -1\n",
    "\n",
    "    return round(pi_approx, 7)\n",
    "# Get user input for the number of approximations\n",
    "num_approximations = int(input(\"Enter the number of approximations: \"))\n",
    "\n",
    "# Calculate and display the approximations of pi\n",
    "approximations = calculate_pi_approximations(num_approximations)\n",
    "print(f\"{num_approximations} approximations of pi: {approximations}\")\n",
    "\n",
    "\n",
    "\n"
   ]
  }
 ],
 "metadata": {
  "language_info": {
   "name": "python"
  },
  "orig_nbformat": 4
 },
 "nbformat": 4,
 "nbformat_minor": 2
}
