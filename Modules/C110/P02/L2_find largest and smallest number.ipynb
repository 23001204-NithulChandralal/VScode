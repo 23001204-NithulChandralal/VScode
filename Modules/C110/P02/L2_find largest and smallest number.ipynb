{
 "cells": [
  {
   "cell_type": "code",
   "execution_count": 1,
   "metadata": {},
   "outputs": [
    {
     "name": "stdout",
     "output_type": "stream",
     "text": [
      "89\n"
     ]
    }
   ],
   "source": [
    "numbers = [83, 16, 50, 72, 31, 86, 47, 72, 86, 71, \n",
    "62, 24, 39, 84, 84, 12, 16, 88, 35, 40, \n",
    "55, 2, 77, 89, 24, 32, 74, 87, 7, 78, \n",
    "21, 46, 57, 1, 44, 80, 43, 57, 32, 4, \n",
    "33, 17, 75, 74, 85, 80, 50, 17, 39,12]\n",
    "largest_number = max(numbers)\n",
    "print(largest_number)  "
   ]
  }
 ],
 "metadata": {
  "kernelspec": {
   "display_name": "Python 3",
   "language": "python",
   "name": "python3"
  },
  "language_info": {
   "codemirror_mode": {
    "name": "ipython",
    "version": 3
   },
   "file_extension": ".py",
   "mimetype": "text/x-python",
   "name": "python",
   "nbconvert_exporter": "python",
   "pygments_lexer": "ipython3",
   "version": "3.10.1"
  },
  "orig_nbformat": 4
 },
 "nbformat": 4,
 "nbformat_minor": 2
}
