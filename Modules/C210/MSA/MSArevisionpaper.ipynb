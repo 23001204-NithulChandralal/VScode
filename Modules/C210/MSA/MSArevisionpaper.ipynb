{
 "cells": [
  {
   "cell_type": "code",
   "execution_count": 29,
   "metadata": {},
   "outputs": [],
   "source": [
    "#Q1 \n",
    "PlateletDict = {}"
   ]
  },
  {
   "cell_type": "code",
   "execution_count": 30,
   "metadata": {},
   "outputs": [
    {
     "name": "stdout",
     "output_type": "stream",
     "text": [
      "End of program\n"
     ]
    }
   ],
   "source": [
    "#Q2\n",
    "patient_name = input(\"Enter patient's name: \")\n",
    "\n",
    "while patient_name != \"end\":\n",
    "    platelet_count = int(input(\"Enter platelet count: \"))\n",
    "    PlateletDict[patient_name] = platelet_count\n",
    "    print(\"Platelet count added.\")\n",
    "    patient_name = input(\"Enter patient's name: \")\n",
    "\n",
    "print(\"End of program\")\n"
   ]
  },
  {
   "cell_type": "code",
   "execution_count": 31,
   "metadata": {},
   "outputs": [
    {
     "name": "stdout",
     "output_type": "stream",
     "text": [
      "Patient with lowest platelet count is Locsin\n"
     ]
    }
   ],
   "source": [
    "#Q3\n",
    "PlateletDict = {\n",
    "    \"Hilmi\": 175000,\n",
    "    \"Locsin\": 50000,\n",
    "    \"Kurt\": 75000,\n",
    "    \"Gardner\": 246000,\n",
    "    \"Guan\": 80400\n",
    "}\n",
    "\n",
    "patients = list(PlateletDict.keys())\n",
    "patient_with_lowest_count = patients[0]\n",
    "\n",
    "for patient in patients[1:]:\n",
    "    if PlateletDict[patient] < PlateletDict[patient_with_lowest_count]:\n",
    "        patient_with_lowest_count = patient\n",
    "\n",
    "print(\"Patient with lowest platelet count is\", patient_with_lowest_count)\n"
   ]
  },
  {
   "cell_type": "code",
   "execution_count": 32,
   "metadata": {},
   "outputs": [
    {
     "name": "stdout",
     "output_type": "stream",
     "text": [
      "  product_name     category  price  quantity\n",
      "0       Laptop  Electronics   1200        30\n",
      "1        Mouse  Electronics     50       300\n",
      "2      Monitor  Electronics    300        50\n",
      "3         Desk    Furniture    250        45\n",
      "4        Chair    Furniture    150       150\n"
     ]
    }
   ],
   "source": [
    "#Q4\n",
    "import pandas as pd\n",
    "\n",
    "product_names = ['Laptop', 'Mouse', 'Monitor', 'Desk', 'Chair']\n",
    "categories = ['Electronics', 'Electronics', 'Electronics', 'Furniture', 'Furniture']\n",
    "prices = [1200, 50, 300, 250, 150]\n",
    "quantities = [30, 300, 50, 45, 150]\n",
    "\n",
    "data = {\n",
    "    'product_name': product_names,\n",
    "    'category': categories,\n",
    "    'price': prices,\n",
    "    'quantity': quantities\n",
    "}\n",
    "\n",
    "df_products = pd.DataFrame(data)\n",
    "print(df_products)"
   ]
  },
  {
   "cell_type": "code",
   "execution_count": 33,
   "metadata": {},
   "outputs": [
    {
     "name": "stdout",
     "output_type": "stream",
     "text": [
      "  product_name     category  price  quantity\n",
      "0       Laptop  Electronics   1200        30\n"
     ]
    }
   ],
   "source": [
    "#Q5\n",
    "average_price = df_products['price'].mean()\n",
    "above_average = df_products[df_products['price'] > average_price]\n",
    "\n",
    "print(above_average)"
   ]
  },
  {
   "cell_type": "code",
   "execution_count": 34,
   "metadata": {},
   "outputs": [
    {
     "name": "stdout",
     "output_type": "stream",
     "text": [
      "  product_name     category  price  quantity\n",
      "0       Laptop  Electronics   1080        30\n",
      "1        Mouse  Electronics     50       300\n",
      "2      Monitor  Electronics    270        50\n",
      "3         Desk    Furniture    225        45\n",
      "4        Chair    Furniture    135       150\n"
     ]
    }
   ],
   "source": [
    "#Q6\n",
    "\n",
    "\n",
    "# Make a copy of df_products\n",
    "df_discounted = df_products.copy()\n",
    "\n",
    "# Apply a 10% discount on products priced above $100\n",
    "df_discounted.loc[df_discounted['price'] > 100, 'price'] *= 0.9\n",
    "\n",
    "print(df_discounted)\n"
   ]
  },
  {
   "cell_type": "code",
   "execution_count": 35,
   "metadata": {},
   "outputs": [
    {
     "name": "stdout",
     "output_type": "stream",
     "text": [
      "category      Electronics  Furniture\n",
      "product_name                        \n",
      "Chair                 NaN      135.0\n",
      "Desk                  NaN      225.0\n",
      "Laptop             1080.0        NaN\n",
      "Monitor             270.0        NaN\n",
      "Mouse                50.0        NaN\n"
     ]
    }
   ],
   "source": [
    "#Q7\n",
    "\n",
    "df_reshaped = df_discounted.pivot(index='product_name', columns='category', values='price')\n",
    "\n",
    "print(df_reshaped)"
   ]
  },
  {
   "cell_type": "code",
   "execution_count": 36,
   "metadata": {},
   "outputs": [
    {
     "data": {
      "text/plain": [
       "<Axes: title={'center': 'Price of Products'}, xlabel='Product Name', ylabel='Price'>"
      ]
     },
     "execution_count": 36,
     "metadata": {},
     "output_type": "execute_result"
    },
    {
     "data": {
      "image/png": "[encoded data removed]",
      "text/plain": [
       "<Figure size 640x480 with 1 Axes>"
      ]
     },
     "metadata": {},
     "output_type": "display_data"
    }
   ],
   "source": [
    "#Q8\n",
    "\n",
    "df_discounted.plot(kind=\"bar\",x='product_name', y='price',xlabel=\"Product Name\",ylabel=\"Price\", label='price',title = \"Price of Products\")"
   ]
  },
  {
   "cell_type": "code",
   "execution_count": 37,
   "metadata": {},
   "outputs": [],
   "source": [
    "#Q9\n",
    "class Vehicle:\n",
    "\n",
    "    def __init__(self, plate_number, rental_date, return_date):\n",
    "        self.plate_number = plate_number\n",
    "        self.rental_date = rental_date\n",
    "        self.return_date = return_date\n",
    "\n",
    "    def rent(self, date):\n",
    "        self.rental_date = date\n",
    "\n",
    "    def return_veh(self, date):\n",
    "        self.return_date = date\n",
    "\n",
    "    def getPlateNo(self):\n",
    "        return self.plate_number"
   ]
  },
  {
   "cell_type": "code",
   "execution_count": 38,
   "metadata": {},
   "outputs": [
    {
     "name": "stdout",
     "output_type": "stream",
     "text": [
      "Customer: Jane Doe, Rented Vehicles: SKX1Z, GBA99A\n"
     ]
    }
   ],
   "source": [
    "#Q10\n",
    "class Customer:\n",
    "    def __init__(self, name):\n",
    "        self.name = name\n",
    "        self.rented_vehicles = []\n",
    "\n",
    "    def rent_vehicle(self, vehicle, rental_date):\n",
    "        vehicle.rent(rental_date)\n",
    "        self.rented_vehicles.append(vehicle)\n",
    "\n",
    "    def return_vehicle(self, vehicle, return_date):\n",
    "        vehicle.return_veh(return_date)\n",
    "        self.rented_vehicles.remove(vehicle)\n",
    "\n",
    "    def __str__(self):\n",
    "            rented_vehicles = ', '.join(vehicle.getPlateNo() for vehicle in self.rented_vehicles)\n",
    "            if len(rented_vehicles) == 0:\n",
    "                rented_vehicles = \"No vehicles rented\"\n",
    "            return f\"Customer: {self.name}, Rented Vehicles: {rented_vehicles}\"\n",
    "    \n",
    "\n",
    "customer = Customer(\"Jane Doe\")\n",
    "car1 = Vehicle(\"SKX1Z\", \"2023-01-01\", \"2023-01-10\")\n",
    "car2 = Vehicle(\"GBA99A\", \"2023-02-01\", \"2023-02-10\")\n",
    "\n",
    "# Adding rented vehicles\n",
    "customer.rent_vehicle(car1, \"2023-01-01\")\n",
    "customer.rent_vehicle(car2, \"2023-02-01\")\n",
    "\n",
    "print(customer)"
   ]
  },
  {
   "cell_type": "code",
   "execution_count": 39,
   "metadata": {},
   "outputs": [],
   "source": [
    "#Q11\n",
    "class Car(Vehicle):\n",
    "    def __init__(self, plate_number, rental_date, return_date, num_seats):\n",
    "        super().__init__(plate_number, rental_date, return_date)\n",
    "        self.num_seats = num_seats\n",
    "\n",
    "    def get_num_seats(self):\n",
    "        return self.num_seats"
   ]
  },
  {
   "cell_type": "code",
   "execution_count": 41,
   "metadata": {},
   "outputs": [
    {
     "name": "stdout",
     "output_type": "stream",
     "text": [
      "Customer: Jane Doe, Rented Vehicles: SKX1Z\n",
      "Customer: Jane Doe, Rented Vehicles: No vehicles rented\n"
     ]
    }
   ],
   "source": [
    "#Q12\n",
    "# Creating customer and car objects\n",
    "customer = Customer(\"Jane Doe\")\n",
    "car = Car(\"SKX1Z\", \"2023-11-15\", \"2023-11-23\", 5)\n",
    "\n",
    "# Renting the car to the customer\n",
    "customer.rent_vehicle(car1, \"2023-11-15\")\n",
    "print(customer)\n",
    "\n",
    "# Returning the car\n",
    "customer.return_vehicle(car1, \"2023-11-23\")\n",
    "print(customer)\n"
   ]
  }
 ],
 "metadata": {
  "kernelspec": {
   "display_name": "Python 3",
   "language": "python",
   "name": "python3"
  },
  "language_info": {
   "codemirror_mode": {
    "name": "ipython",
    "version": 3
   },
   "file_extension": ".py",
   "mimetype": "text/x-python",
   "name": "python",
   "nbconvert_exporter": "python",
   "pygments_lexer": "ipython3",
   "version": "3.10.1"
  }
 },
 "nbformat": 4,
 "nbformat_minor": 2
}
