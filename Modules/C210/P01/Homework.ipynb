{
 "cells": [
  {
   "cell_type": "code",
   "execution_count": null,
   "metadata": {},
   "outputs": [],
   "source": [
    "#Homeowrk Q1\n",
    "\n",
    "def hex_to_bin(hex_string):\n",
    "    hex_to_bin_dict = {\n",
    "        '0': '0000', '1': '0001', '2': '0010', '3': '0011',\n",
    "        '4': '0100', '5': '0101', '6': '0110', '7': '0111',\n",
    "        '8': '1000', '9': '1001', 'A': '1010', 'B': '1011',\n",
    "        'C': '1100', 'D': '1101', 'E': '1110', 'F': '1111'\n",
    "    }\n",
    "\n",
    "    binary_result = ''\n",
    "    for hex_digit in hex_string:\n",
    "        if hex_digit.upper() in hex_to_bin_dict:\n",
    "            binary_result += hex_to_bin_dict[hex_digit.upper()]\n",
    "        else:\n",
    "            return \"Invalid hexadecimal character in the input.\"\n",
    "\n",
    "    return binary_result\n",
    "\n",
    "hex_string = input(\"Enter string of hexadecimals:\")\n",
    "binary_result = hex_to_bin(hex_string)\n",
    "print(binary_result)\n"
   ]
  },
  {
   "cell_type": "code",
   "execution_count": null,
   "metadata": {},
   "outputs": [],
   "source": [
    "# Scrabble letter scores\n",
    "# Used abit of ChatGPT because i am not sure how to do \n",
    "letter_scores = {\n",
    "    'A': 1, 'B': 3, 'C': 3, 'D': 2, 'E': 1, 'F': 4, 'G': 2, 'H': 4,\n",
    "    'I': 1, 'J': 8, 'K': 5, 'L': 1, 'M': 3, 'N': 1, 'O': 1, 'P': 3,\n",
    "    'Q': 10, 'R': 1, 'S': 1, 'T': 1, 'U': 1, 'V': 4, 'W': 4, 'X': 8,\n",
    "    'Y': 4, 'Z': 10\n",
    "}\n",
    "\n",
    "word = input(\"Enter a word (7 characters max): \").upper()\n",
    "double_letter = input(\"Specify a letter for double letter score (or press Enter): \").upper()\n",
    "double_word = input(\"Specify double word score (Y/N): \").strip().lower() == \"y\"\n",
    "\n",
    "total_score = 0\n",
    "for letter in word:\n",
    "    if letter == double_letter:\n",
    "        total_score += 2 * letter_scores[letter]\n",
    "    else:\n",
    "        total_score += letter_scores[letter]\n",
    "\n",
    "if double_word:\n",
    "    total_score *= 2\n",
    "\n",
    "print(\"The score of\",word, \"is\",total_score)\n"
   ]
  }
 ],
 "metadata": {
  "language_info": {
   "name": "python"
  }
 },
 "nbformat": 4,
 "nbformat_minor": 2
}
