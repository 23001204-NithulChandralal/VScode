{
 "cells": [
  {
   "cell_type": "markdown",
   "metadata": {},
   "source": [
    "Class:  C210-5B-W65L-A    <br>\n",
    "Name: Nithul Chandralal  <br>\n",
    "Student ID: 23001204  <br>\n",
    "Lesson: Lesson 01 - Key-Value Data Structure (1/2) <br>"
   ]
  },
  {
   "cell_type": "code",
   "execution_count": 74,
   "metadata": {},
   "outputs": [],
   "source": [
    "# Exercise #1 - Dictionary\n",
    "# Provide 5 countries (of your choice) as the KEYS and their capital cities as the VALUES\n",
    "\n",
    "countries = {\n",
    "    \"Singapore\":\"Singapore\",\n",
    "    \"Poland\":\"Warsaw\",\n",
    "    \"Malaysia\":\"KL\",\n",
    "    \"Qatar\":\"Doha\",\n",
    "    \"Japan\":\"Tokyo\"\n",
    "}\n",
    "\n",
    "\n",
    "\n"
   ]
  },
  {
   "cell_type": "code",
   "execution_count": 76,
   "metadata": {},
   "outputs": [
    {
     "name": "stdout",
     "output_type": "stream",
     "text": [
      "testing1capital is added\n"
     ]
    }
   ],
   "source": [
    "# Exercise #2 - Add an key-value pair to a dictionary\n",
    "\n",
    "new_country = input(\"Enter the country:\")\n",
    "new_capital = input(\"Enter the capital city\")\n",
    "\n",
    "if new_country in countries:\n",
    "    print(\"Already exists\")\n",
    "else:\n",
    "    countries[new_country] = new_capital  \n",
    "    print(countries[new_country],\"is added\")"
   ]
  },
  {
   "cell_type": "code",
   "execution_count": 8,
   "metadata": {},
   "outputs": [
    {
     "name": "stdout",
     "output_type": "stream",
     "text": [
      "{'Poland': 'Warsaw', 'Malaysia': 'KL', 'Qatar': 'Doha', 'Japan': 'Tokyo'}\n",
      "Singapore have been removeed\n"
     ]
    }
   ],
   "source": [
    "# Exercise #3 - Remove an key-value pair from a dictionary\n",
    "\n",
    "country = input(\"Enter country\")\n",
    "\n",
    "if country in countries:\n",
    "    del countries[country]\n",
    "    print(countries)\n",
    "    print(country,\"have been removeed\")\n",
    "else:\n",
    "    print(\"Country not found\")\n"
   ]
  },
  {
   "cell_type": "code",
   "execution_count": 13,
   "metadata": {},
   "outputs": [
    {
     "name": "stdout",
     "output_type": "stream",
     "text": [
      "The capital of Poland is Warsaw\n",
      "The capital of Malaysia is KL\n",
      "The capital of Qatar is Doha\n",
      "The capital of Japan is Tokyo\n",
      "The capital of Singapore is Singapore\n"
     ]
    }
   ],
   "source": [
    "# Exercise #4 - Display a dictionary\n",
    "\n",
    "for i in countries:\n",
    "    print(\"The capital of\",i,\"is\",countries[i])"
   ]
  },
  {
   "cell_type": "code",
   "execution_count": 71,
   "metadata": {},
   "outputs": [
    {
     "name": "stdout",
     "output_type": "stream",
     "text": [
      " Country    |    Capital City\n",
      "------------------------------\n",
      "Poland     ->    Warsaw      \n",
      "Malaysia   ->    KL          \n",
      "Qatar      ->    Doha        \n",
      "Japan      ->    Tokyo       \n",
      "Singapore  ->    Singapore   \n"
     ]
    }
   ],
   "source": [
    "# Exercise 4A \n",
    "print (\"%1s %4s %15s\" % (\" Country\",\"|\",\"Capital City\"))\n",
    "print (\"------------------------------\")\n",
    "for i in countries:\n",
    "    print(\"%-10s %-5s %-12s\" % (i, \"->\", countries[i]))\n",
    "    \n"
   ]
  },
  {
   "cell_type": "code",
   "execution_count": null,
   "metadata": {},
   "outputs": [],
   "source": [
    "# Exercise #5 - A dictionary with Menu option\n",
    "\n",
    "def get_option():                                         #main program \n",
    "    print(\"1. Add country-city\")\n",
    "    print(\"2. Delete country-city\")\n",
    "    print(\"3.Update capital city\")\n",
    "    print(\"4. Display A country-city\")\n",
    "    print(\"5. Display ALL country-city\")\n",
    "    print(\"6. Quit\")\n",
    "    option = int(input(\"Enter an option:\"))\n",
    "    return option "
   ]
  },
  {
   "cell_type": "markdown",
   "metadata": {},
   "source": [
    "<h4>THE END.</h4>"
   ]
  }
 ],
 "metadata": {
  "kernelspec": {
   "display_name": "Python 3",
   "language": "python",
   "name": "python3"
  },
  "language_info": {
   "codemirror_mode": {
    "name": "ipython",
    "version": 3
   },
   "file_extension": ".py",
   "mimetype": "text/x-python",
   "name": "python",
   "nbconvert_exporter": "python",
   "pygments_lexer": "ipython3",
   "version": "3.10.1"
  },
  "orig_nbformat": 4
 },
 "nbformat": 4,
 "nbformat_minor": 2
}
