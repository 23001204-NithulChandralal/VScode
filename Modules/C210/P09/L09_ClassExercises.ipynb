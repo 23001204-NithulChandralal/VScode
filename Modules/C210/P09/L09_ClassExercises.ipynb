{
 "cells": [
  {
   "cell_type": "markdown",
   "metadata": {},
   "source": [
    "Class:  C210-5B-W65L-A    <br>\n",
    "Name: Nithul Chandralal  <br>\n",
    "Student ID: 23001204  <br>\n",
    "Lesson: Lesson 09 - Object-Oriented Programming (5/5) <br>"
   ]
  },
  {
   "cell_type": "code",
   "execution_count": 436,
   "metadata": {},
   "outputs": [],
   "source": [
    "# Class - User with __init__ and __str__ methods\n",
    "\n",
    "class User:\n",
    "    def __init__(self, userID, name, email, contact):\n",
    "        self.__userID = userID\n",
    "        self.__name = name\n",
    "        self.__email = email\n",
    "        self.__contact = contact\n",
    "\n",
    "    def __str__(self):\n",
    "        out_str = \"ID: \" + self.__userID \n",
    "        out_str += \"\\nName: \" + self.__name\n",
    "        out_str += \"\\nEmail: \" + self.__email\n",
    "        out_str += \"\\nContact: \" + str(self.__contact)\n",
    "        return out_str\n",
    "\n",
    "    def getUserID(self):\n",
    "        return self.__userID\n",
    "\n",
    "    def getName(self):\n",
    "        return self.__name\n",
    "\n"
   ]
  },
  {
   "cell_type": "code",
   "execution_count": 437,
   "metadata": {},
   "outputs": [
    {
     "name": "stdout",
     "output_type": "stream",
     "text": [
      "ID: 123ABC\n",
      "Name: John Doe\n",
      "Email: john.doe@example.com\n",
      "Contact: 1234567890\n",
      "------------------------\n",
      "\n",
      "User ID: 123ABC\n"
     ]
    }
   ],
   "source": [
    "# Test stub - User class\n",
    "# 1. Create a User object and display it\n",
    "# 2. Call and print getUserID()\n",
    " \n",
    "user1 = User(\"123ABC\", \"John Doe\", \"john.doe@example.com\", 1234567890)\n",
    "\n",
    "print(user1)\n",
    "print(\"------------------------\")\n",
    "print(\"\\nUser ID:\", user1.getUserID())"
   ]
  },
  {
   "cell_type": "code",
   "execution_count": 438,
   "metadata": {},
   "outputs": [],
   "source": [
    "# Class - Staff inherited from User class with __init__ and __str__ methods\n",
    "\n",
    "class Staff(User):\n",
    "    def __init__(self, userID, name, email, contact,dept):\n",
    "        super().__init__(userID, name, email, contact)\n",
    "        self.__dept = dept\n",
    "\n",
    "    def __str__(self):\n",
    "        return super().__str__() + \"\\n\" + \"Department is: \" + self.__dept\n",
    "\n"
   ]
  },
  {
   "cell_type": "code",
   "execution_count": 439,
   "metadata": {},
   "outputs": [
    {
     "name": "stdout",
     "output_type": "stream",
     "text": [
      "ID: 456XYZ\n",
      "Name: Jane Doe\n",
      "Email: jane.doe@example.com\n",
      "Contact: 9876543210\n",
      "Department is: Finance\n",
      "------------------------\n",
      "User ID: 456XYZ\n"
     ]
    }
   ],
   "source": [
    "# Test stub - Staff class\n",
    "# 1. Create a Staff object and display it\n",
    "# 2. Call and print getUserID()\n",
    "\n",
    "# Test stub for the Staff class\n",
    "staff1 = Staff(\"456XYZ\", \"Jane Doe\", \"jane.doe@example.com\", 9876543210, \"Finance\")\n",
    "\n",
    "\n",
    "print(staff1)\n",
    "print(\"------------------------\")\n",
    "print(\"User ID:\", staff1.getUserID())\n",
    "\n",
    "\n",
    "\n"
   ]
  },
  {
   "cell_type": "code",
   "execution_count": 440,
   "metadata": {},
   "outputs": [],
   "source": [
    "# Class - Student inherited from User class with __init__ and __str__ methods\n",
    "\n",
    "class Student(User):\n",
    "    def __init__(self, userID, name, email, contact,diploma):\n",
    "        super().__init__(userID, name, email, contact)\n",
    "        self.__diploma = diploma\n",
    "\n",
    "    def __str__(self):\n",
    "        return super().__str__() + \"\\n\" + \"Department is: \" + self.__diploma\n",
    "    \n"
   ]
  },
  {
   "cell_type": "code",
   "execution_count": 441,
   "metadata": {},
   "outputs": [
    {
     "name": "stdout",
     "output_type": "stream",
     "text": [
      "ID: 789LMN\n",
      "Name: Alice Doe\n",
      "Email: alice.doe@example.com\n",
      "Contact: 9876543210\n",
      "Department is: Computer Science\n",
      "------------------------\n",
      "User ID: 789LMN\n"
     ]
    }
   ],
   "source": [
    "# Test stub - Student class\n",
    "# 1. Create a Student object and display it\n",
    "# 2. Call and print getUserID()\n",
    "\n",
    "student1 = Student(\"789LMN\", \"Alice Doe\", \"alice.doe@example.com\", 9876543210, \"Computer Science\")\n",
    "\n",
    "print(student1)\n",
    "print(\"------------------------\")\n",
    "print(\"User ID:\", student1.getUserID())\n",
    "\n"
   ]
  },
  {
   "cell_type": "code",
   "execution_count": 442,
   "metadata": {},
   "outputs": [],
   "source": [
    "# Class - Book with __init__ and __str__ methods\n",
    "class Book:\n",
    "    def __init__(self, callNo, title, author, ISBN, publisher):\n",
    "        self.__callNo = callNo\n",
    "        self.__title = title\n",
    "        self.__author = author\n",
    "        self.__ISBN = ISBN\n",
    "        self.__publisher = publisher\n",
    "\n",
    "    def __str__(self):\n",
    "        out_str = \"Call Number: \" + self.__callNo + \"\\n\"\n",
    "        out_str += \"Title: \" + self.__title + \"\\n\"\n",
    "        out_str += \"Author: \" + self.__author + \"\\n\"\n",
    "        out_str += \"ISBN: \" + self.__ISBN + \"\\n\"\n",
    "        out_str += \"Publisher: \" + self.__publisher\n",
    "        return out_str\n",
    "\n",
    "    def getCallNo(self):\n",
    "        return self.__callNo\n",
    "\n",
    "\n"
   ]
  },
  {
   "cell_type": "code",
   "execution_count": 443,
   "metadata": {},
   "outputs": [
    {
     "name": "stdout",
     "output_type": "stream",
     "text": [
      "Call Number: 200\n",
      "Title: Sample Book\n",
      "Author: John Doe\n",
      "ISBN: 978-1234567890\n",
      "Publisher: Sample Publisher\n",
      "\n",
      "Call Number: 200\n"
     ]
    }
   ],
   "source": [
    "# Test stub - Book class\n",
    "# 1. Create a Book object and display it\n",
    "# 2. Call and print getCallNo()\n",
    "\n",
    "book1 = Book(\"200\", \"Sample Book\", \"John Doe\", \"978-1234567890\", \"Sample Publisher\")\n",
    "\n",
    "print(book1)\n",
    "print(\"\\nCall Number:\", book1.getCallNo())"
   ]
  },
  {
   "cell_type": "code",
   "execution_count": 444,
   "metadata": {},
   "outputs": [],
   "source": [
    "# Class - Transact with __init__ and __str__ methods\n",
    "\n",
    "import datetime as dt\n",
    "\n",
    "class Transact:\n",
    "    def __init__(self, transactID, book, user):\n",
    "        self.__transactID = transactID\n",
    "        self.__book = book\n",
    "        self.__user = user\n",
    "        self.__borrowDate = dt.datetime(2023,12,13) # for testing \n",
    "        #self.__borrowDate = dt.datetime.now()\n",
    "        self.__returnDate = None\n",
    "        self.__fine = 0.0\n",
    "\n",
    "    def __str__(self):\n",
    "        out_str = \"Transact ID: \" + self.__transactID + \"\\n\"\n",
    "        out_str += \"Book: \" + self.__book.getCallNo() + \"\\n\"\n",
    "        out_str += \"User: \" + self.__user.getUserID() + \"\\n\"      \n",
    "        out_str += \"Borrow Date: \" + str(self.__borrowDate) + \"\\n\"\n",
    "        out_str += \"Return Date: \" + str(self.__returnDate) + \"\\n\"\n",
    "        out_str += \"Fine: $\" + str(self.__fine)\n",
    "        return out_str\n",
    "\n",
    "    def getTransactID(self):\n",
    "        return self.__transactID\n",
    "\n",
    "    def returnStatus(self):\n",
    "        return self.__returnDate\n",
    "\n",
    "    def returnTransact(self):\n",
    "        if self.__returnDate is None:\n",
    "            self.__returnDate = dt.datetime.now()\n",
    "            past = (self.__returnDate - self.__borrowDate).days\n",
    "            if past > 7:\n",
    "                self.__fine= (past-7) * 0.5\n",
    "\n",
    "\n"
   ]
  },
  {
   "cell_type": "code",
   "execution_count": 445,
   "metadata": {},
   "outputs": [
    {
     "name": "stdout",
     "output_type": "stream",
     "text": [
      "Transact ID: 5366\n",
      "Book: 200\n",
      "User: 123ABC\n",
      "Borrow Date: 2023-12-13 00:00:00\n",
      "Return Date: None\n",
      "Fine: $0.0\n",
      "5366\n",
      "None\n",
      "Transact ID: 5366\n",
      "Book: 200\n",
      "User: 123ABC\n",
      "Borrow Date: 2023-12-13 00:00:00\n",
      "Return Date: 2024-01-12 14:35:41.299734\n",
      "Fine: $11.5\n"
     ]
    }
   ],
   "source": [
    "# Test stub - Transact class\n",
    "# 1. Create a \"borrow\" type of Transact object with User and Book objects created above, display it\n",
    "# 2. Call and print getTransactID()\n",
    "# 3. Call and print returnStatus() - show None\n",
    "# 4. Call returnTransact()\n",
    "# 5. Call and print returnStatus() - show return date\n",
    "# 6. Display the Transact object again\n",
    "\n",
    "borrow_transact = Transact(\"5366\",book1,user1)\n",
    "\n",
    "print(borrow_transact)\n",
    "\n",
    "print(borrow_transact.getTransactID())\n",
    "print(borrow_transact.returnStatus())\n",
    "borrow_transact.returnTransact()\n",
    "print(borrow_transact)\n"
   ]
  },
  {
   "cell_type": "code",
   "execution_count": 451,
   "metadata": {},
   "outputs": [],
   "source": [
    "# Class - Library with __init__ and __str__ methods\n",
    "import pickle\n",
    "\n",
    "class Library():\n",
    "    def __init__(self,name,area,country):\n",
    "        self.__name = name\n",
    "        self.__area = area \n",
    "        self.__country= country \n",
    "        self.__users = {}\n",
    "        self.__books = {}\n",
    "        self.__transacts = {}\n",
    "\n",
    "    def __str__(self):\n",
    "        out_str = \"Name :\" + self.__name + \"\\n\"\n",
    "        out_str += \"Area :\" + self.__area  + \"\\n\"\n",
    "        out_str += \"Country :\" + self.__country \n",
    "        return out_str\n",
    "\n",
    "    def addBook(self,book):\n",
    "        self.__books[book.getCallNo()] = book\n",
    "\n",
    "    def displayBooks(self):\n",
    "        if len(self.__books) > 0 :\n",
    "            for book in self.__books:\n",
    "                print(self.__books[book])\n",
    "        else:\n",
    "            print(\"No books in the library\")\n",
    "\n",
    "    def getBook(self, callNo):\n",
    "        if callNo in self.__books:\n",
    "            return self.__books.get(callNo)\n",
    "        else:\n",
    "            return print(\"No such book\")\n",
    "        \n",
    "    def addUser(self, user):\n",
    "        self.__users[user.getUserID()] = user\n",
    "\n",
    "    def getUser(self, userID):\n",
    "        if userID in self.__users:\n",
    "            return self.__users.get(userID)\n",
    "        else:\n",
    "            return print(\"No users\")     \n",
    "          \n",
    "    def displayUsers(self):\n",
    "        if len(self.__users) > 0:\n",
    "            for user_id, user in self.__users.items():\n",
    "                print(user)\n",
    "        else:\n",
    "            print(\"No users\")\n",
    "\n",
    "    def borrowTransact(self, transact):\n",
    "        self.__transacts[transact.getTransactID()] = transact\n",
    "\n",
    "    def returnTransact(self, TransactID):\n",
    "        if TransactID in self.__transacts:\n",
    "            the_transact = self.__transacts[TransactID]\n",
    "            the_transact.returnTransact()\n",
    "        else:\n",
    "            print(\"Invalid Transact\")\n",
    "\n",
    "    def displayTransact(self, transaction_type):  \n",
    "        if transaction_type == \"all\":\n",
    "            for transact_id, transact in self.__transacts.items():\n",
    "                print(transact)\n",
    "        elif transaction_type == \"borrow\":\n",
    "            for transact_id, transact in self.__transacts.items():\n",
    "                if transact.returnStatus() is None:\n",
    "                    print(transact)\n",
    "        elif transaction_type == \"return\":\n",
    "            for transact_id, transact in self.__transacts.items():\n",
    "                if transact.returnStatus() is not None:\n",
    "                    print(transact)\n",
    "        else:\n",
    "            print(\"No transactions in ibrary\")\n",
    "\n",
    "    def save_data(self, data_file, data):\n",
    "        with open(data_file, \"wb\") as file:\n",
    "            for d in data:\n",
    "                pickle.dump(data[d], file)\n",
    "        print(data_file, \"saved succesfully.\")\n",
    "\n",
    "    def save(self):\n",
    "        print(\"Saving data....\")\n",
    "        self.save_data(\"books.data\", self.__books)\n",
    "        self.save_data(\"users.data\", self.__users)\n",
    "        self.save_data(\"transact.data\", self.__transacts)"
   ]
  },
  {
   "cell_type": "code",
   "execution_count": 447,
   "metadata": {},
   "outputs": [
    {
     "name": "stdout",
     "output_type": "stream",
     "text": [
      "Name :RP library\n",
      "Area :Woodlands\n",
      "Country :Singapore\n",
      "No books in the library\n",
      "\n",
      "\n",
      "Call Number: 200\n",
      "Title: Sample Book\n",
      "Author: John Doe\n",
      "ISBN: 978-1234567890\n",
      "Publisher: Sample Publisher\n",
      "\n",
      "\n",
      "Call Number: 200\n",
      "Title: Sample Book\n",
      "Author: John Doe\n",
      "ISBN: 978-1234567890\n",
      "Publisher: Sample Publisher\n",
      "\n",
      "\n",
      "No such book\n",
      "None\n"
     ]
    }
   ],
   "source": [
    "# Test stub - Library class (Book related)\n",
    "# 1. Create a Library object and display it\n",
    "# 2. Call displayBooks() - no books displayed\n",
    "# 3. Call addBook() to add the Book created above\n",
    "# 4. Call displayBooks() - the Book displayed\n",
    "# 5. Call and print getBook() with the callNo of the Book\n",
    "# 6. Call and print getBook with a non-existent Book\n",
    "\n",
    "lib = Library(\"RP library\", \"Woodlands\",\"Singapore\")\n",
    "print(lib)\n",
    "lib.displayBooks()\n",
    "lib.addBook(book1)\n",
    "print(\"\\n\")\n",
    "lib.displayBooks()\n",
    "print(\"\\n\")\n",
    "print(lib.getBook(\"200\"))\n",
    "print(\"\\n\")\n",
    "print(lib.getBook(\"300\"))\n",
    "\n",
    "\n"
   ]
  },
  {
   "cell_type": "code",
   "execution_count": 448,
   "metadata": {},
   "outputs": [
    {
     "name": "stdout",
     "output_type": "stream",
     "text": [
      "No users\n",
      "ID: 123ABC\n",
      "Name: John Doe\n",
      "Email: john.doe@example.com\n",
      "Contact: 1234567890\n",
      "ID: 123ABC\n",
      "Name: John Doe\n",
      "Email: john.doe@example.com\n",
      "Contact: 1234567890\n",
      "ID: 456XYZ\n",
      "Name: Jane Doe\n",
      "Email: jane.doe@example.com\n",
      "Contact: 9876543210\n",
      "Department is: Finance\n"
     ]
    }
   ],
   "source": [
    "# Test stub - Library class (User related)\n",
    "# 1. Call displayUsers() - no users displayed\n",
    "# 2. Call addUser() to add the Student created above\n",
    "# 3. Call displayUsers() - 1x user displayed\n",
    "# 4. Call addUser() to add the Staff created above\n",
    "# 5. Call displayUsers() - 2x users displayed\n",
    "\n",
    "lib.displayUsers()\n",
    "lib.addUser(user1)\n",
    "lib.displayUsers()\n",
    "lib.addUser(staff1)\n",
    "lib.displayUsers()\n",
    "\n",
    "\n",
    "\n"
   ]
  },
  {
   "cell_type": "code",
   "execution_count": 449,
   "metadata": {},
   "outputs": [
    {
     "name": "stdout",
     "output_type": "stream",
     "text": [
      "Displaying all transactions:\n",
      "------------------------\n",
      "Displaying borrow transactions:\n",
      "Transact ID: T123\n",
      "Book: 200\n",
      "User: 123ABC\n",
      "Borrow Date: 2023-12-13 00:00:00\n",
      "Return Date: None\n",
      "Fine: $0.0\n",
      "------------------------\n",
      "Displaying return transactions:\n",
      "------------------------\n",
      "Displaying borrow transactions:\n",
      "Transact ID: T123\n",
      "Book: 200\n",
      "User: 123ABC\n",
      "Borrow Date: 2023-12-13 00:00:00\n",
      "Return Date: None\n",
      "Fine: $0.0\n",
      "Transact ID: T456\n",
      "Book: 200\n",
      "User: 123ABC\n",
      "Borrow Date: 2023-12-13 00:00:00\n",
      "Return Date: None\n",
      "Fine: $0.0\n",
      "------------------------\n",
      "Displaying return transactions:\n",
      "------------------------\n",
      "Displaying all transactions:\n",
      "Transact ID: T123\n",
      "Book: 200\n",
      "User: 123ABC\n",
      "Borrow Date: 2023-12-13 00:00:00\n",
      "Return Date: None\n",
      "Fine: $0.0\n",
      "Transact ID: T456\n",
      "Book: 200\n",
      "User: 123ABC\n",
      "Borrow Date: 2023-12-13 00:00:00\n",
      "Return Date: 2024-01-12 14:35:41.382658\n",
      "Fine: $11.5\n",
      "------------------------\n"
     ]
    }
   ],
   "source": [
    "# Test stub - Library class (Transact related)\n",
    "# 1. Call displayTransact('all') - no transaction displayed\n",
    "# 2. Call borrowTransact() with the transaction created above\n",
    "# 3. Call displayTransact('borrow') - no transaction displayed\n",
    "# 4. Call displayTransact('return') - the transaction displayed\n",
    "# 5. Create a new Transact object and call borrowTransact() with it\n",
    "# 6. Call displayTransact('borrow') - the newly created transaction displayed\n",
    "# 7. Call displayTransact('return') - only the previous transaction displayed\n",
    "# 8. Call returnTransact() with the newly created transaction\n",
    "# 9. Call displayTransact('all') - 2x transactions displayed with returnDate\n",
    "\n",
    "print(\"Displaying all transactions:\")\n",
    "lib.displayTransact('all')\n",
    "print(\"------------------------\")\n",
    "\n",
    "borrow_transaction = Transact(\"T123\", book1, user1)\n",
    "lib.borrowTransact(borrow_transaction)\n",
    "\n",
    "print(\"Displaying borrow transactions:\")\n",
    "lib.displayTransact('borrow')\n",
    "print(\"------------------------\")\n",
    "\n",
    "print(\"Displaying return transactions:\")\n",
    "lib.displayTransact('return')\n",
    "print(\"------------------------\")\n",
    "\n",
    "new_borrow_transaction = Transact(\"T456\", book1, user1)\n",
    "lib.borrowTransact(new_borrow_transaction)\n",
    "\n",
    "\n",
    "print(\"Displaying borrow transactions:\")\n",
    "lib.displayTransact('borrow')\n",
    "print(\"------------------------\")\n",
    "\n",
    "\n",
    "print(\"Displaying return transactions:\")\n",
    "lib.displayTransact('return')\n",
    "print(\"------------------------\")\n",
    "\n",
    "\n",
    "lib.returnTransact(\"T456\")\n",
    "\n",
    "print(\"Displaying all transactions:\")\n",
    "lib.displayTransact('all')\n",
    "print(\"------------------------\")"
   ]
  },
  {
   "cell_type": "code",
   "execution_count": 452,
   "metadata": {},
   "outputs": [
    {
     "name": "stdout",
     "output_type": "stream",
     "text": [
      "Saving data....\n",
      "books.data saved succesfully.\n",
      "users.data saved succesfully.\n",
      "transact.data saved succesfully.\n"
     ]
    }
   ],
   "source": [
    "# Test stub - Library class\n",
    "# 1. Call save() to save all books, users and transactions\n",
    "\n",
    "lib.save()\n"
   ]
  },
  {
   "cell_type": "markdown",
   "metadata": {},
   "source": [
    "<h4>THE END.</h4>"
   ]
  }
 ],
 "metadata": {
  "kernelspec": {
   "display_name": "Python 3",
   "language": "python",
   "name": "python3"
  },
  "language_info": {
   "codemirror_mode": {
    "name": "ipython",
    "version": 3
   },
   "file_extension": ".py",
   "mimetype": "text/x-python",
   "name": "python",
   "nbconvert_exporter": "python",
   "pygments_lexer": "ipython3",
   "version": "3.10.1"
  },
  "orig_nbformat": 4
 },
 "nbformat": 4,
 "nbformat_minor": 2
}
