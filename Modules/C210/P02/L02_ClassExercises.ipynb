{
 "cells": [
  {
   "cell_type": "markdown",
   "metadata": {},
   "source": [
    "Class:  C210-5B-W65L-A    <br>\n",
    "Name: Nithul Chandralal <br>\n",
    "Student ID: 23001204  <br>\n",
    "Lesson: Lesson 02 - Key-Value Data Structure (2/2) <br>"
   ]
  },
  {
   "cell_type": "code",
   "execution_count": 1,
   "metadata": {},
   "outputs": [
    {
     "name": "stdout",
     "output_type": "stream",
     "text": [
      "hola\n"
     ]
    },
    {
     "data": {
      "text/plain": [
       "'zai jian'"
      ]
     },
     "execution_count": 1,
     "metadata": {},
     "output_type": "execute_result"
    }
   ],
   "source": [
    "# Exercise #1 - Accessing a Dictionary\n",
    "lang_list = [\"Spanish\",\"French\",\"Mandarin\"]\n",
    "myData = {\n",
    "    \"hello\" :[\"hola\",\"bonjour\",\"ni hao\"],\n",
    "    \"goodbye\" :[\"adidos\",\"au revoir\",\"zai jian\"]\n",
    "}\n",
    "#a\n",
    "print(myData[\"hello\"][0])\n",
    "\n",
    "#b - error : index out of range\n",
    "#print(myData[\"hello\"][4])\n",
    "\n",
    "#c\n",
    "myData['goodbye'][2]\n",
    "\n",
    "#d - error : keyerror :'goodbye'\n",
    "#print(myData['good bye'][1])\n",
    "\n"
   ]
  },
  {
   "cell_type": "code",
   "execution_count": 2,
   "metadata": {},
   "outputs": [
    {
     "name": "stdout",
     "output_type": "stream",
     "text": [
      "The list for hello is ['hola', 'bonjour', 'ni hao']\n",
      "The list for goodbye is ['adidos', 'au revoir', 'zai jian']\n",
      "--------------------OR----------------\n",
      "Key: hello\n",
      "hola bonjour ni hao \n",
      "Key: goodbye\n",
      "adidos au revoir zai jian \n",
      "------------------OR------------------\n",
      "Word in English: hello\n",
      "Equivalenet word: hola\n",
      "Equivalenet word: bonjour\n",
      "Equivalenet word: ni hao\n",
      "\n",
      "Word in English: goodbye\n",
      "Equivalenet word: adidos\n",
      "Equivalenet word: au revoir\n",
      "Equivalenet word: zai jian\n",
      "\n"
     ]
    }
   ],
   "source": [
    "# Exercise #2 - Iterating a Dictionary\n",
    "\n",
    "for i in myData:\n",
    "    print(\"The list for\",i,\"is\",myData[i])\n",
    "\n",
    "print(\"--------------------OR----------------\")\n",
    "\n",
    "for i in myData:\n",
    "    print(\"Key:\",i)\n",
    "    for j in myData[i]:\n",
    "        print(j, end=\" \")\n",
    "    print(\"\")\n",
    "        \n",
    "print(\"------------------OR------------------\")\n",
    "\n",
    "for i in myData:\n",
    "    print(\"Word in English:\",i)\n",
    "    for j in myData[i]:\n",
    "        print(\"Equivalenet word:\",j)\n",
    "    print(\"\")\n",
    "    \n"
   ]
  },
  {
   "cell_type": "code",
   "execution_count": 3,
   "metadata": {},
   "outputs": [
    {
     "name": "stdout",
     "output_type": "stream",
     "text": [
      "Current available language(s): ['Spanish', 'French', 'Mandarin']\n",
      "\n",
      "\n",
      "Japanese has been added\n",
      "\n",
      "Current available language(s):  ['Spanish', 'French', 'Mandarin', 'Japanese']\n",
      "Word in English: hello\n",
      "Equivalenet word: hola\n",
      "Equivalenet word: bonjour\n",
      "Equivalenet word: ni hao\n",
      "Equivalenet word: Konichiwa\n",
      "\n",
      "Word in English: goodbye\n",
      "Equivalenet word: adidos\n",
      "Equivalenet word: au revoir\n",
      "Equivalenet word: zai jian\n",
      "Equivalenet word: Sayonara\n",
      "\n"
     ]
    }
   ],
   "source": [
    "#Exercise 3: Adding more values to the key \n",
    "\n",
    "print(\"Current available language(s):\",lang_list)\n",
    "new_lang = input(\"Add New Foreign Language Equivalent, or 'Quit' to end program:\")\n",
    "\n",
    "while new_lang != \"Quit\":\n",
    "    hello_input = input(new_lang + \" for hello is:\")\n",
    "    print(\"\")\n",
    "    goodbye_input = input(new_lang + \" for goodbye is:\")\n",
    "    print(\"\")\n",
    "    print(new_lang + \" has been added\") \n",
    "    lang_list.append(new_lang)\n",
    "    myData[\"hello\"].append(hello_input)\n",
    "    myData[\"goodbye\"].append(goodbye_input)\n",
    "    print(\"\")\n",
    "    print(\"Current available language(s): \",lang_list)\n",
    "    new_lang = input(\"Add New Foreign Language Equivalent, or 'Quit' to end program:\")\n",
    "\n",
    "for i in myData:\n",
    "    print(\"Word in English:\",i)\n",
    "    for j in myData[i]:\n",
    "        print(\"Equivalenet word:\",j)\n",
    "    print(\"\")\n"
   ]
  },
  {
   "cell_type": "code",
   "execution_count": 4,
   "metadata": {},
   "outputs": [
    {
     "name": "stdout",
     "output_type": "stream",
     "text": [
      "Current available language(s): ['Spanish', 'French', 'Mandarin', 'Japanese']\n",
      "Records updated\n",
      "\n",
      "Current available language(s): ['Spanish', 'French', 'Mandarin']\n",
      "Word in English: hello\n",
      "Equivalenet word: hola\n",
      "Equivalenet word: bonjour\n",
      "Equivalenet word: ni hao\n",
      "\n",
      "Word in English: goodbye\n",
      "Equivalenet word: adidos\n",
      "Equivalenet word: au revoir\n",
      "Equivalenet word: zai jian\n",
      "\n"
     ]
    }
   ],
   "source": [
    "# Exercise #4 - Removing Values from a Key\n",
    "\n",
    "print(\"Current available language(s):\",lang_list)\n",
    "del_lang = input(\"Enter Foreign Language Equivalent to remove:\")\n",
    "if del_lang in lang_list:\n",
    "    del_index = lang_list.index(del_lang)\n",
    "    lang_list.pop(del_index)\n",
    "    for i in myData:\n",
    "        myData[i].pop(del_index)\n",
    "    print(\"Records updated\")\n",
    "    print(\"\")\n",
    "else:\n",
    "    print(\"Foreign Language not found\")\n",
    "\n",
    "print(\"Current available language(s):\",lang_list)\n",
    "for i in myData:\n",
    "    print(\"Word in English:\",i)\n",
    "    for j in myData[i]:\n",
    "        print(\"Equivalenet word:\",j)\n",
    "    print(\"\")"
   ]
  },
  {
   "cell_type": "code",
   "execution_count": 5,
   "metadata": {},
   "outputs": [
    {
     "name": "stdout",
     "output_type": "stream",
     "text": [
      "*** Current Dictionary ***\n",
      "Word in English: hello\n",
      "Equivalenet word: hola\n",
      "Equivalenet word: bonjour\n",
      "Equivalenet word: ni hao\n",
      "\n",
      "Word in English: goodbye\n",
      "Equivalenet word: adidos\n",
      "Equivalenet word: au revoir\n",
      "Equivalenet word: zai jian\n",
      "\n"
     ]
    }
   ],
   "source": [
    "# Exercise 5 - Dictionary and Functions\n",
    "def printDict(myData):\n",
    "    print(\"*** Current Dictionary ***\")\n",
    "    for i in myData:\n",
    "        print(\"Word in English:\",i)\n",
    "        for j in myData[i]:\n",
    "            print(\"Equivalenet word:\",j)\n",
    "        print(\"\")\n",
    "\n",
    "printDict(myData)"
   ]
  },
  {
   "cell_type": "code",
   "execution_count": null,
   "metadata": {},
   "outputs": [],
   "source": [
    "# Putting It Together - The Problem – \"hello\" & \"goodbye\"\n",
    "\n",
    "def printDict(myData):\n",
    "    print(\"*** Current Dictionary ***\")\n",
    "    for i in myData:\n",
    "        print(\"Word in English:\",i)\n",
    "        for j in myData[i]:\n",
    "            print(\"Equivalenet word:\",j)\n",
    "        print(\"\")\n",
    "\n",
    "def menu():\n",
    "    print(\"*** Menu ***\")\n",
    "    print(\"1. Add New Foreign Language Equivalent\")\n",
    "    print(\"2. Remove a Foreign Language Equivalent\")\n",
    "    print(\"3.Quit\")\n",
    "    opt = input(\"Enter choice (1/2/3):\")\n",
    "    print(\"\")\n",
    "    return opt\n",
    "\n",
    "lang_list = [\"Spanish\",\"French\",\"Mandarin\"]\n",
    "myData = {\n",
    "    \"hello\" :[\"hola\",\"bonjour\",\"ni hao\"],\n",
    "    \"goodbye\" :[\"adidos\",\"au revoir\",\"zai jian\"]\n",
    "}\n",
    "\n",
    "print(\"Current available language(s):\",lang_list)\n",
    "printDict(myData)\n",
    "opt = menu()\n",
    "\n",
    "while opt != \"3\":\n",
    "    if opt == '1':\n",
    "        new_lang = input(\"Enter New Foreign Language Equivalent, or 'Quit' to end program:\")\n",
    "        print(\"\")\n",
    "        hello_input = input(new_lang + \" for hello is:\")\n",
    "        print(\"\")\n",
    "        goodbye_input = input(new_lang + \" for goodbye is:\")\n",
    "        print(\"\")\n",
    "        print(new_lang + \" has been added\") \n",
    "        lang_list.append(new_lang)\n",
    "        myData[\"hello\"].append(hello_input)\n",
    "        myData[\"goodbye\"].append(goodbye_input)\n",
    "        print(\"\")\n",
    "        print(\"Current available language(s): \",lang_list)\n",
    "        printDict(myData)\n",
    "    elif opt == '2':\n",
    "        del_lang = input(\"Enter Foreign Language Equivalent to remove:\")\n",
    "        if del_lang in lang_list:\n",
    "            del_index = lang_list.index(del_lang)\n",
    "            lang_list.pop(del_index)\n",
    "            for i in myData:\n",
    "                myData[i].pop(del_index)\n",
    "            print(\"Records updated\")\n",
    "            print(\"\")\n",
    "        else:\n",
    "            print(\"ERROR - Cannot find language\")\n",
    "            print(\"\")\n",
    "        print(\"Current available language(s):\",lang_list)\n",
    "        printDict(myData)\n",
    "    else:\n",
    "        print(\"Invalid Option\")"
   ]
  },
  {
   "cell_type": "markdown",
   "metadata": {},
   "source": [
    "<h4>THE END.</h4>"
   ]
  }
 ],
 "metadata": {
  "kernelspec": {
   "display_name": "Python 3",
   "language": "python",
   "name": "python3"
  },
  "language_info": {
   "codemirror_mode": {
    "name": "ipython",
    "version": 3
   },
   "file_extension": ".py",
   "mimetype": "text/x-python",
   "name": "python",
   "nbconvert_exporter": "python",
   "pygments_lexer": "ipython3",
   "version": "3.10.1"
  },
  "orig_nbformat": 4
 },
 "nbformat": 4,
 "nbformat_minor": 2
}
