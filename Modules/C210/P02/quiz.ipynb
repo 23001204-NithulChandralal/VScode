{
 "cells": [
  {
   "cell_type": "code",
   "execution_count": 3,
   "metadata": {},
   "outputs": [
    {
     "name": "stdout",
     "output_type": "stream",
     "text": [
      "{'a': 1, 'b': 3, 'c': 3}\n"
     ]
    }
   ],
   "source": [
    "data = {'a':1 , 'b':3, 'c':2}\n",
    "data['c'] = 3\n",
    "print(data)"
   ]
  },
  {
   "cell_type": "code",
   "execution_count": 4,
   "metadata": {},
   "outputs": [
    {
     "name": "stdout",
     "output_type": "stream",
     "text": [
      "{'a': 1, 'b': 3, 'c': 2, 'd': 2}\n"
     ]
    }
   ],
   "source": [
    "data = {'a':1 , 'b':3, 'c':2}\n",
    "data['d'] = 2\n",
    "print(data)"
   ]
  },
  {
   "cell_type": "code",
   "execution_count": 5,
   "metadata": {},
   "outputs": [
    {
     "name": "stdout",
     "output_type": "stream",
     "text": [
      "{'b': 3, 'c': 2}\n"
     ]
    }
   ],
   "source": [
    "data = {'a':1 , 'b':3, 'c':2}\n",
    "del data['a']\n",
    "print(data)"
   ]
  },
  {
   "cell_type": "code",
   "execution_count": 9,
   "metadata": {},
   "outputs": [
    {
     "name": "stdout",
     "output_type": "stream",
     "text": [
      "a : 1\n",
      "b : 3\n",
      "c : 2\n"
     ]
    }
   ],
   "source": [
    "data = {'a':1 , 'b':3, 'c':2}\n",
    "for i in data:\n",
    "    print(i, \":\",data[i])"
   ]
  },
  {
   "cell_type": "code",
   "execution_count": 1,
   "metadata": {},
   "outputs": [
    {
     "name": "stdout",
     "output_type": "stream",
     "text": [
      "IVR Simulation Stopped\n"
     ]
    }
   ],
   "source": [
    "phoneDic = {1:'Savings account enquiry', 2:'Stolen credit card reporting',3:'Fraud reporting'}\n",
    "keyed = int(input(\"Enter a number\"))\n",
    "\n",
    "while keyed != 9:\n",
    "    if keyed in phoneDic:\n",
    "        print(phoneDic[keyed])\n",
    "    else:\n",
    "        print(\"No such action\")\n",
    "    keyed = int(input(\"Enter a number\"))\n",
    "print(\"IVR Simulation Stopped\")"
   ]
  },
  {
   "cell_type": "code",
   "execution_count": 25,
   "metadata": {},
   "outputs": [
    {
     "name": "stdout",
     "output_type": "stream",
     "text": [
      "\n",
      "Student Scores:\n",
      "Student ID: S2213453 Scores: [45.6, 25.0, 65.0]\n",
      "Student ID: S2256789 Scores: [87.5, 92.3, 78.0]\n"
     ]
    }
   ],
   "source": [
    "studentScore = {}\n",
    "student_id = input(\"Enter student ID ('S' to stop): \")\n",
    "\n",
    "while student_id != 'S':\n",
    "    scores = []\n",
    "    for i in range(3):\n",
    "        score = float(input(\"Enter score for Module \" + str(i + 1) + \":\"))\n",
    "        scores.append(score)\n",
    "    studentScore[student_id] = scores\n",
    "    student_id = input(\"Enter student ID ('S' to stop): \")\n",
    "\n",
    "print(\"\\nStudent Scores:\")\n",
    "\n",
    "for student_id in studentScore:\n",
    "    print(\"Student ID: \" + student_id + \" Scores: \" + str(studentScore[student_id]))\n"
   ]
  }
 ],
 "metadata": {
  "kernelspec": {
   "display_name": "Python 3",
   "language": "python",
   "name": "python3"
  },
  "language_info": {
   "codemirror_mode": {
    "name": "ipython",
    "version": 3
   },
   "file_extension": ".py",
   "mimetype": "text/x-python",
   "name": "python",
   "nbconvert_exporter": "python",
   "pygments_lexer": "ipython3",
   "version": "3.8.6"
  }
 },
 "nbformat": 4,
 "nbformat_minor": 2
}
