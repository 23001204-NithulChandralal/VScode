{
 "cells": [
  {
   "cell_type": "code",
   "execution_count": null,
   "metadata": {},
   "outputs": [],
   "source": [
    "# question 1 \n",
    "\n",
    "data = {'a': 1, 'b': 3, 'c': 2} \n",
    "data['c'] = 3\n",
    "\n",
    "\n",
    "data = {'a': 1, 'b': 3, 'c': 3}\n",
    "data['d'] = 2\n",
    "\n",
    "data = {'a': 1, 'b': 3, 'c': 3, 'd': 2} \n",
    "del data['a']\n",
    "\n",
    "data={'a':1,'b':3,'c':2}\n",
    "for i in data:\n",
    "  print('key:',i,'value:',data[i])"
   ]
  },
  {
   "cell_type": "code",
   "execution_count": 1,
   "metadata": {},
   "outputs": [
    {
     "name": "stdout",
     "output_type": "stream",
     "text": [
      "IVR Simulation (Press 4 to quit)\n",
      "Fraud reporting\n",
      "No such action\n",
      "No such action\n",
      "No such action\n",
      "No such action\n",
      "No such action\n",
      "No such action\n",
      "No such action\n",
      "No such action\n",
      "No such action\n",
      "No such action\n",
      "No such action\n",
      "No such action\n",
      "No such action\n",
      "No such action\n",
      "No such action\n",
      "No such action\n",
      "No such action\n",
      "No such action\n",
      "No such action\n",
      "No such action\n"
     ]
    }
   ],
   "source": [
    "# question 2 \n",
    "\n",
    "ivr_dict = {\n",
    "    '1': 'Savings account enquiry',\n",
    "    '2': 'Stolen credit card reporting',\n",
    "    '3': 'Fraud reporting'\n",
    "}\n",
    "\n",
    "print(\"IVR Simulation (Press 4 to quit)\")\n",
    "\n",
    "button = input(\"Press button: \")\n",
    "\n",
    "while button != '4':\n",
    "    message = ivr_dict.get(button, \"No such action\")\n",
    "    print(message)\n",
    "    button = input(\"Press button: \")\n",
    "\n",
    "print(\"IVR Simulation Stopped\")\n"
   ]
  },
  {
   "cell_type": "code",
   "execution_count": 3,
   "metadata": {},
   "outputs": [
    {
     "ename": "TypeError",
     "evalue": "'student_id' is an invalid keyword argument for print()",
     "output_type": "error",
     "traceback": [
      "\u001b[1;31m---------------------------------------------------------------------------\u001b[0m",
      "\u001b[1;31mTypeError\u001b[0m                                 Traceback (most recent call last)",
      "\u001b[1;32mc:\\VScode\\C210\\P02\\L02 test (2).ipynb Cell 3\u001b[0m line \u001b[0;36m8\n\u001b[0;32m      <a href='vscode-notebook-cell:/c%3A/VScode/C210/P02/L02%20test%20%282%29.ipynb#W2sZmlsZQ%3D%3D?line=4'>5</a>\u001b[0m student_id \u001b[39m=\u001b[39m \u001b[39minput\u001b[39m(\u001b[39m\"\u001b[39m\u001b[39mEnter Student ID (or \u001b[39m\u001b[39m'\u001b[39m\u001b[39mS\u001b[39m\u001b[39m'\u001b[39m\u001b[39m to Stop): \u001b[39m\u001b[39m\"\u001b[39m)\n\u001b[0;32m      <a href='vscode-notebook-cell:/c%3A/VScode/C210/P02/L02%20test%20%282%29.ipynb#W2sZmlsZQ%3D%3D?line=6'>7</a>\u001b[0m \u001b[39mif\u001b[39;00m student_id\u001b[39m.\u001b[39mlower() \u001b[39m!=\u001b[39m \u001b[39m'\u001b[39m\u001b[39ms\u001b[39m\u001b[39m'\u001b[39m:\n\u001b[1;32m----> <a href='vscode-notebook-cell:/c%3A/VScode/C210/P02/L02%20test%20%282%29.ipynb#W2sZmlsZQ%3D%3D?line=7'>8</a>\u001b[0m     \u001b[39mprint\u001b[39;49m(student_id \u001b[39m=\u001b[39;49m \u001b[39mint\u001b[39;49m(student_id))\n\u001b[0;32m      <a href='vscode-notebook-cell:/c%3A/VScode/C210/P02/L02%20test%20%282%29.ipynb#W2sZmlsZQ%3D%3D?line=8'>9</a>\u001b[0m \u001b[39melse\u001b[39;00m:\n\u001b[0;32m     <a href='vscode-notebook-cell:/c%3A/VScode/C210/P02/L02%20test%20%282%29.ipynb#W2sZmlsZQ%3D%3D?line=9'>10</a>\u001b[0m     \u001b[39mprint\u001b[39m(\u001b[39m\"\u001b[39m\u001b[39mInvalid Student ID. Please enter a numeric Student ID.\u001b[39m\u001b[39m\"\u001b[39m)\n",
      "\u001b[1;31mTypeError\u001b[0m: 'student_id' is an invalid keyword argument for print()"
     ]
    }
   ],
   "source": [
    "#question 3 \n",
    "\n",
    "studentScores = {}\n",
    "\n",
    "student_id = input(\"Enter Student ID (or 'S' to Stop): \")\n",
    "\n",
    "if student_id.lower() != 's':\n",
    "    print(student_id = int(student_id))\n",
    "else:\n",
    "    print(\"Invalid Student ID. Please enter a numeric Student ID.\")\n",
    "    student_id = input(\"Enter Student ID (or 'S' to Stop): \")\n",
    "\n",
    "        \n",
    "    \n",
    "module1_score = float(input(\"Enter score for Module 1: \"))\n",
    "module2_score = float(input(\"Enter score for Module 2: \"))\n",
    "module3_score = float(input(\"Enter score for Module 3: \"))\n",
    "    \n",
    "studentScores[student_id] = [module1_score, module2_score, module3_score]\n",
    "    \n",
    "student_id = input(\"Enter Student ID (or 'S' to Stop): \")\n",
    "\n",
    "print(\"Student Scores:\")\n",
    "for student_id, scores in studentScores.items():\n",
    "    print(f\"Student ID: {student_id}\")\n",
    "    print(f\"Scores: {scores}\")"
   ]
  }
 ],
 "metadata": {
  "kernelspec": {
   "display_name": "Python 3",
   "language": "python",
   "name": "python3"
  },
  "language_info": {
   "codemirror_mode": {
    "name": "ipython",
    "version": 3
   },
   "file_extension": ".py",
   "mimetype": "text/x-python",
   "name": "python",
   "nbconvert_exporter": "python",
   "pygments_lexer": "ipython3",
   "version": "3.10.1"
  }
 },
 "nbformat": 4,
 "nbformat_minor": 2
}
