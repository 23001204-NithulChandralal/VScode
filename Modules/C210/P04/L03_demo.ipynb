{
 "cells": [
  {
   "cell_type": "code",
   "execution_count": 1,
   "metadata": {},
   "outputs": [],
   "source": [
    "#Create using dictoonary\n",
    "\n",
    "import pandas as pd\n",
    "dict = {\"student_ID\":[230212345,23018765,23013456,23019876],\n",
    "        \"CA1\":[ 45,55,85,70],\n",
    "        \"CA2\":[50,60,95,75] }\n",
    " \n",
    "df_student = pd.DataFrame(dict)\n",
    " \n",
    "student1=  pd.DataFrame({\"student_ID\":[23065432,23032109],\n",
    "                         \"CA1\":[15,-5],\n",
    "                         \"CA2\":[20,80]})\n",
    " \n",
    "\n",
    "#joining \n",
    "df3 = pd.concat([df_student,student1],ignore_index=True)\n",
    " \n",
    " "
   ]
  },
  {
   "cell_type": "code",
   "execution_count": 2,
   "metadata": {},
   "outputs": [
    {
     "data": {
      "text/html": [
       "<div>\n",
       "<style scoped>\n",
       "    .dataframe tbody tr th:only-of-type {\n",
       "        vertical-align: middle;\n",
       "    }\n",
       "\n",
       "    .dataframe tbody tr th {\n",
       "        vertical-align: top;\n",
       "    }\n",
       "\n",
       "    .dataframe thead th {\n",
       "        text-align: right;\n",
       "    }\n",
       "</style>\n",
       "<table border=\"1\" class=\"dataframe\">\n",
       "  <thead>\n",
       "    <tr style=\"text-align: right;\">\n",
       "      <th></th>\n",
       "      <th>student_ID</th>\n",
       "      <th>CA1</th>\n",
       "      <th>CA2</th>\n",
       "    </tr>\n",
       "  </thead>\n",
       "  <tbody>\n",
       "    <tr>\n",
       "      <th>0</th>\n",
       "      <td>230212345</td>\n",
       "      <td>45</td>\n",
       "      <td>50</td>\n",
       "    </tr>\n",
       "    <tr>\n",
       "      <th>1</th>\n",
       "      <td>23018765</td>\n",
       "      <td>55</td>\n",
       "      <td>60</td>\n",
       "    </tr>\n",
       "    <tr>\n",
       "      <th>2</th>\n",
       "      <td>23013456</td>\n",
       "      <td>85</td>\n",
       "      <td>95</td>\n",
       "    </tr>\n",
       "    <tr>\n",
       "      <th>3</th>\n",
       "      <td>23019876</td>\n",
       "      <td>70</td>\n",
       "      <td>75</td>\n",
       "    </tr>\n",
       "  </tbody>\n",
       "</table>\n",
       "</div>"
      ],
      "text/plain": [
       "   student_ID  CA1  CA2\n",
       "0   230212345   45   50\n",
       "1    23018765   55   60\n",
       "2    23013456   85   95\n",
       "3    23019876   70   75"
      ]
     },
     "execution_count": 2,
     "metadata": {},
     "output_type": "execute_result"
    }
   ],
   "source": [
    "import pandas as pd\n",
    "dict = {\"student_ID\":[230212345,23018765,23013456,23019876],\n",
    "        \"CA1\":[ 45,55,85,70],\n",
    "        \"CA2\":[50,60,95,75] }\n",
    " \n",
    "df_student = pd.DataFrame(dict)\n",
    "\n",
    "df_student\n",
    "\n",
    "\n",
    "use an indexter to access elements in the dataframe"
   ]
  }
 ],
 "metadata": {
  "kernelspec": {
   "display_name": "Python 3",
   "language": "python",
   "name": "python3"
  },
  "language_info": {
   "codemirror_mode": {
    "name": "ipython",
    "version": 3
   },
   "file_extension": ".py",
   "mimetype": "text/x-python",
   "name": "python",
   "nbconvert_exporter": "python",
   "pygments_lexer": "ipython3",
   "version": "3.10.1"
  }
 },
 "nbformat": 4,
 "nbformat_minor": 2
}
