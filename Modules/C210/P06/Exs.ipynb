{
 "cells": [
  {
   "cell_type": "code",
   "execution_count": 3,
   "metadata": {},
   "outputs": [
    {
     "name": "stdout",
     "output_type": "stream",
     "text": [
      "123\n"
     ]
    }
   ],
   "source": [
    "class Car:  \n",
    "    def __init__(self,brand,colour,plateNo,model,maxSpeed,speed):    \n",
    "        self.brand = brand\n",
    "        self.colour = colour  \n",
    "        self.plateNO = plateNo\n",
    "        self.model = model\n",
    "        self.maxSpeed = maxSpeed\n",
    "        self.speed = speed\n",
    "    \n",
    "    def accelerate(self,speed_to_increase):\n",
    "        if self.speed + speed_to_increase < self.maxSpeed:\n",
    "            self.speed = self.speed + speed_to_increase\n",
    "            print(\"Increased current speed by:\",speed_to_increase)\n",
    "        else:\n",
    "            print(\"Faster than max speed\")\n",
    "\n",
    "    def getPlateNo(self):\n",
    "        return self.plateNO\n",
    "\n",
    "class Driver:\n",
    "    def __init__(self,driverID,name):\n",
    "        self.driverID = driverID\n",
    "        self.name = name \n",
    "        self.points = {}\n",
    "    \n",
    "    def setPts(self,points):\n",
    "        self.points = points\n",
    "\n",
    "\n",
    "#Creating a Car\n",
    "my_first_car = Car(\"Toyota\", \"Grey\", \"ABC123\", \"Corolla\", 180,0)\n",
    "my_second_car = Car(\"Honda\", \"Black\", \"ACC323\", \"Civic\", 280,0)\n",
    "my_third_car = Car(\"Toyota\", \"Yellow\", \"SCC333\", \"Vios\", 230,0)\n",
    "\n",
    "#Creating a Driver \n",
    "driver1 = Driver(\"123\", \"Jayden\")\n",
    "driver2 = Driver(\"321\", \"Mike \")\n",
    "driver3 = Driver(\"111\", \"George\")\n",
    "\n",
    "\n",
    "#Testing\n",
    "print(driver1.driverID)\n",
    "\n",
    "\n",
    "\n",
    "\n",
    "\n",
    "\n",
    "\n"
   ]
  }
 ],
 "metadata": {
  "kernelspec": {
   "display_name": "Python 3",
   "language": "python",
   "name": "python3"
  },
  "language_info": {
   "codemirror_mode": {
    "name": "ipython",
    "version": 3
   },
   "file_extension": ".py",
   "mimetype": "text/x-python",
   "name": "python",
   "nbconvert_exporter": "python",
   "pygments_lexer": "ipython3",
   "version": "3.10.1"
  }
 },
 "nbformat": 4,
 "nbformat_minor": 2
}
