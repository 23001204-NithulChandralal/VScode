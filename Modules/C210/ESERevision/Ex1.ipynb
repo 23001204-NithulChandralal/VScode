{
 "cells": [
  {
   "cell_type": "code",
   "execution_count": null,
   "metadata": {},
   "outputs": [],
   "source": [
    "\n",
    "import pandas as pd\n",
    "\n",
    "# Load the excel file into a DataFrame\n",
    "sales_df = pd.read_excel('sales_data.xlsx')\n",
    "\n",
    " Filter out rows with missing values\n",
    "sales_working = sales_df.dropna()\n"
   ]
  },
  {
   "cell_type": "code",
   "execution_count": null,
   "metadata": {},
   "outputs": [],
   "source": [
    "\n",
    "import pandas as pd\n",
    "\n",
    " Load the excel file into a DataFrame\n",
    "sales_df = pd.read_excel('sales_data.xlsx')\n",
    "\n",
    " Filter out rows with missing values\n",
    "sales_working = sales_df.dropna()\n",
    "\n",
    " Display the first 10 rows of the dataframe\n",
    "print(sales_working.head(10))\n"
   ]
  },
  {
   "cell_type": "code",
   "execution_count": null,
   "metadata": {},
   "outputs": [],
   "source": [
    "\n",
    "class Character:\n",
    "    def __init__(self, name, health, location):\n",
    "        self.__name = name\n",
    "        self.__health = health\n",
    "        self.__location = location\n",
    "        \n",
    "    def move(self, direction):\n",
    "        if direction == \"north\":\n",
    "            self.__location == \"north\"\n",
    "        elif direction == \"south\":\n",
    "            self.__location == \"south\"\n",
    "        elif direction == \"east\":\n",
    "            self.__location == 'east'\n",
    "        elif direction == \"west\":\n",
    "            self.__location == \"west\"\n",
    "        \n",
    "    def attack(self):\n",
    "        print(\"Character attacks\")\n",
    "    \n",
    "    def getName(self):\n",
    "        return self.__name\n",
    "    \n",
    "    def getHealth(self):\n",
    "        return self.__health\n",
    "    \n",
    "    def setHealth(self, points):\n",
    "        if points >= 0: \n",
    "            self.__health = points\n"
   ]
  },
  {
   "cell_type": "code",
   "execution_count": null,
   "metadata": {},
   "outputs": [],
   "source": [
    "filtered_df.plot(x='Sales', y='Frequency',xlabel=\"Sales\",ylabel=\"Frequency\", color='Blue', label='Sales',title = \"Sales\")\n"
   ]
  },
  {
   "cell_type": "code",
   "execution_count": null,
   "metadata": {},
   "outputs": [],
   "source": [
    "\n",
    "var today = new Date();\n",
    "\n",
    "var formattedDate = today.toLocaleString('en-US', { weekday: 'long', month: 'short', day: 'numeric' });\n",
    "\n",
    "document.getElementById(\"current_date\").innerHTML = formattedDate;\n"
   ]
  }
 ],
 "metadata": {
  "language_info": {
   "name": "python"
  }
 },
 "nbformat": 4,
 "nbformat_minor": 2
}
