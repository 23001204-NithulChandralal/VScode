{
 "cells": [
  {
   "cell_type": "code",
   "execution_count": 43,
   "metadata": {},
   "outputs": [],
   "source": [
    "class Car: # class name is always start with a capital \n",
    "    car_type = \"EV\"\n",
    "\n",
    "    def __init__(self,brand,colour,speed):    # to instantiate an object \n",
    "        self.brand = brand\n",
    "        self.colour = colour  \n",
    "        self.speed = speed\n",
    "\n",
    "    def __str__(self):\n",
    "        out_str = \"The car is \" + self.brand + \" brand \" + self.colour\n",
    "        return out_str\n",
    "    \n",
    "    def start(self,speed): #use defined method \n",
    "        self.speed = speed\n",
    "\n",
    "    def stop(self):\n",
    "        self.speed = 0\n",
    "\n",
    "#self is the object itself "
   ]
  },
  {
   "cell_type": "code",
   "execution_count": 44,
   "metadata": {},
   "outputs": [
    {
     "name": "stdout",
     "output_type": "stream",
     "text": [
      "***My First car***\n",
      "BMW\n",
      "White\n",
      "EV\n",
      "***My Second car***\n",
      "Toyota\n",
      "brown\n",
      "The car is BMW brand White\n"
     ]
    }
   ],
   "source": [
    "#create object \n",
    "my_first_car = Car(\"BMW\",\"White\",\"0\")\n",
    "my_second_car = Car(\"Toyota\",\"brown\",\"0\")\n",
    "\n",
    "print(\"***My First car***\")\n",
    "print(my_first_car.brand)\n",
    "print(my_first_car.colour)\n",
    "print(my_first_car.car_type)\n",
    "\n",
    "\n",
    "print(\"***My Second car***\")\n",
    "print(my_second_car.brand)\n",
    "print(my_second_car.colour)\n",
    "\n",
    "\n",
    "print(my_first_car)"
   ]
  },
  {
   "cell_type": "code",
   "execution_count": 45,
   "metadata": {},
   "outputs": [
    {
     "name": "stdout",
     "output_type": "stream",
     "text": [
      "0\n",
      "60\n",
      "0\n"
     ]
    }
   ],
   "source": [
    "#change of speed\n",
    "\n",
    "print(my_first_car.speed)\n",
    "\n",
    "my_first_car.start(60)\n",
    "print(my_first_car.speed)\n",
    "\n",
    "my_first_car.stop()\n",
    "print(my_first_car.speed)"
   ]
  }
 ],
 "metadata": {
  "kernelspec": {
   "display_name": "Python 3",
   "language": "python",
   "name": "python3"
  },
  "language_info": {
   "codemirror_mode": {
    "name": "ipython",
    "version": 3
   },
   "file_extension": ".py",
   "mimetype": "text/x-python",
   "name": "python",
   "nbconvert_exporter": "python",
   "pygments_lexer": "ipython3",
   "version": "3.10.1"
  }
 },
 "nbformat": 4,
 "nbformat_minor": 2
}
