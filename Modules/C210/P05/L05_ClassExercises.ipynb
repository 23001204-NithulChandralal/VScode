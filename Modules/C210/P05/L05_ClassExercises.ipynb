{
 "cells": [
  {
   "cell_type": "markdown",
   "metadata": {},
   "source": [
    "Class:  C210-5B-W65L-B    <br>\n",
    "Name:  Nithul Chandralal <br>\n",
    "Student ID: 23001204 <br>\n",
    "Lesson: Lesson 05 - Object-Oriented Programming (1/5) <br>"
   ]
  },
  {
   "cell_type": "code",
   "execution_count": 96,
   "metadata": {},
   "outputs": [],
   "source": [
    "# Exercise #1 - Creating Classes and Instances\n",
    "# Add on 4x properties: plateNo, model, maxSpeed and speed\n",
    "# Create 3x Car instances of your favorite with their maximum speed\n",
    "\n",
    "class Car:  \n",
    "    def __init__(self,brand,colour,plateNo,model,maxSpeed,speed):    \n",
    "        self.brand = brand\n",
    "        self.colour = colour  \n",
    "        self.plateNO = plateNo\n",
    "        self.model = model\n",
    "        self.maxSpeed = maxSpeed\n",
    "        self.speed = speed\n",
    "    \n",
    "    def accelerate(self,speed_to_increase):\n",
    "        if self.speed + speed_to_increase < self.maxSpeed:\n",
    "            self.speed = self.speed + speed_to_increase\n",
    "            print(\"Increased current speed by:\",speed_to_increase)\n",
    "        else:\n",
    "            print(\"Faster than max speed\")\n",
    "\n",
    "    def getPlateNo(self):\n",
    "        return self.plateNO\n",
    "\n",
    "    \n"
   ]
  },
  {
   "cell_type": "code",
   "execution_count": 97,
   "metadata": {},
   "outputs": [],
   "source": [
    "\n",
    "my_first_car = Car(\"Toyota\", \"Grey\", \"ABC123\", \"Corolla\", 180,0)\n",
    "my_second_car = Car(\"Honda\", \"Black\", \"ACC323\", \"Civic\", 280,0)\n",
    "my_third_car = Car(\"Toyota\", \"Yellow\", \"SCC333\", \"Vios\", 230,0)\n"
   ]
  },
  {
   "cell_type": "code",
   "execution_count": 98,
   "metadata": {},
   "outputs": [
    {
     "name": "stdout",
     "output_type": "stream",
     "text": [
      "Increased current speed by: 150\n",
      "Current Speed is: 150\n",
      "Increased current speed by: 10\n",
      "Current Speed is: 160\n",
      "Increased current speed by: 10\n",
      "Current Speed is: 170\n",
      "Faster than max speed\n",
      "Current Speed is: 170\n"
     ]
    }
   ],
   "source": [
    "# Exercise #2 - Creating Instance Methods\n",
    "# What if the speed is greater than the maximum speed?\n",
    "\n",
    "my_first_car.accelerate(150)\n",
    "print(\"Current Speed is:\", my_first_car.speed)\n",
    "\n",
    "my_first_car.accelerate(10)\n",
    "print(\"Current Speed is:\", my_first_car.speed)\n",
    "\n",
    "my_first_car.accelerate(10)\n",
    "print(\"Current Speed is:\", my_first_car.speed)\n",
    "\n",
    "my_first_car.accelerate(20)\n",
    "print(\"Current Speed is:\", my_first_car.speed)\n",
    "\n",
    "\n",
    "\n"
   ]
  },
  {
   "cell_type": "code",
   "execution_count": 99,
   "metadata": {},
   "outputs": [],
   "source": [
    "# Exercise #3 - Managing Multiple Objects (create another class)\n",
    "\n",
    "class Dealership:\n",
    "    def __init__(self):\n",
    "        self.cars = {}  #create a dictionary to store cars\n",
    "\n",
    "    def add(self,new_car):\n",
    "        #to get PlateNo of the new_car\n",
    "        plateNo = new_car.getPlateNo()\n",
    "        self.cars[plateNo] = new_car\n",
    "\n",
    "    def __str__(self):\n",
    "        out_str =\"\"\n",
    "        if len(self.cars) == 0:\n",
    "            out_str = \"There is no car under the dealership\"\n",
    "        else:\n",
    "            out_str = \"The cars under the dealership: \\n\"  #\\n is to create new line\n",
    "            for plateNo in self.cars:\n",
    "                out_str += plateNo + \"\\n\"\n",
    "        return out_str\n",
    "    \n",
    "    def remove(self, plate_no):\n",
    "        if plate_no in self.cars:\n",
    "            del self.cars[plate_no]\n",
    "        else:\n",
    "            print(\"Car with plate number\",plate_no,\"not found\")\n",
    "        \n",
    "\n",
    "dealer1 = Dealership() #create a dealership without any properties\n",
    "\n",
    "\n",
    "\n"
   ]
  },
  {
   "cell_type": "code",
   "execution_count": 100,
   "metadata": {},
   "outputs": [
    {
     "name": "stdout",
     "output_type": "stream",
     "text": [
      "There is no car under the dealership\n",
      "The cars under the dealership: \n",
      "ABC123\n",
      "ACC323\n",
      "\n",
      "The cars under the dealership: \n",
      "ACC323\n",
      "\n",
      "There is no car under the dealership\n"
     ]
    }
   ],
   "source": [
    "# Exercise #4 - Managing Multiple Objects (one class uses another class)\n",
    "\n",
    "#adding\n",
    "print(dealer1)\n",
    "dealer1.add(my_first_car)\n",
    "dealer1.add(my_second_car)\n",
    "print(dealer1)\n",
    "\n",
    "#removing\n",
    "dealer1.remove(my_first_car.plateNO)\n",
    "print(dealer1)\n",
    "dealer1.remove(my_second_car.plateNO)\n",
    "print(dealer1)"
   ]
  },
  {
   "cell_type": "code",
   "execution_count": 101,
   "metadata": {},
   "outputs": [],
   "source": [
    "# Exercise #5 - Add a new method save2File(filename) to save all Cars plateNo to an excel file "
   ]
  },
  {
   "cell_type": "markdown",
   "metadata": {},
   "source": [
    "<h4>THE END.</h4>"
   ]
  }
 ],
 "metadata": {
  "kernelspec": {
   "display_name": "Python 3",
   "language": "python",
   "name": "python3"
  },
  "language_info": {
   "name": "python",
   "version": "3.10.1"
  },
  "orig_nbformat": 4
 },
 "nbformat": 4,
 "nbformat_minor": 2
}
